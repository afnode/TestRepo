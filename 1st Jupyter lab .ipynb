{
  "metadata": {
    "kernelspec": {
      "name": "python",
      "display_name": "Python (Pyodide)",
      "language": "python"
    },
    "language_info": {
      "codemirror_mode": {
        "name": "python",
        "version": 3
      },
      "file_extension": ".py",
      "mimetype": "text/x-python",
      "name": "python",
      "nbconvert_exporter": "python",
      "pygments_lexer": "ipython3",
      "version": "3.8"
    }
  },
  "nbformat_minor": 4,
  "nbformat": 4,
  "cells": [
    {
      "cell_type": "code",
      "source": "print (\"hello world\") ",
      "metadata": {
        "trusted": true
      },
      "outputs": [
        {
          "name": "stdout",
          "text": "hello world\n",
          "output_type": "stream"
        }
      ],
      "execution_count": 1
    },
    {
      "cell_type": "code",
      "source": "'Hello, Python!'",
      "metadata": {
        "trusted": true
      },
      "outputs": [
        {
          "execution_count": 8,
          "output_type": "execute_result",
          "data": {
            "text/plain": "'Hello, Python!'"
          },
          "metadata": {}
        }
      ],
      "execution_count": 8
    },
    {
      "cell_type": "code",
      "source": "2.5*3.5",
      "metadata": {
        "trusted": true
      },
      "outputs": [
        {
          "execution_count": 9,
          "output_type": "execute_result",
          "data": {
            "text/plain": "8.75"
          },
          "metadata": {}
        }
      ],
      "execution_count": 9
    },
    {
      "cell_type": "code",
      "source": "2.222",
      "metadata": {
        "trusted": true
      },
      "outputs": [
        {
          "execution_count": 12,
          "output_type": "execute_result",
          "data": {
            "text/plain": "2.222"
          },
          "metadata": {}
        }
      ],
      "execution_count": 12
    },
    {
      "cell_type": "code",
      "source": "(20+5)*4",
      "metadata": {
        "trusted": true
      },
      "outputs": [
        {
          "execution_count": 11,
          "output_type": "execute_result",
          "data": {
            "text/plain": "100"
          },
          "metadata": {}
        }
      ],
      "execution_count": 11
    },
    {
      "cell_type": "code",
      "source": "one = 1 \ntwo = 2 \nprint (one + two)",
      "metadata": {
        "trusted": true
      },
      "outputs": [
        {
          "name": "stdout",
          "text": "3\n",
          "output_type": "stream"
        }
      ],
      "execution_count": 4
    },
    {
      "cell_type": "markdown",
      "source": "## Create a Line Plot",
      "metadata": {}
    },
    {
      "cell_type": "code",
      "source": "a = [1, 2, 3, 4 ,5 ]\nb = [-1, -3 , -5, -7, -9]",
      "metadata": {
        "trusted": true
      },
      "outputs": [],
      "execution_count": 5
    },
    {
      "cell_type": "code",
      "source": "import matplotlib.pyplot as plt ",
      "metadata": {
        "trusted": true
      },
      "outputs": [],
      "execution_count": 6
    },
    {
      "cell_type": "code",
      "source": "plt.plot(a,b)\nplt.show()",
      "metadata": {
        "trusted": true
      },
      "outputs": [
        {
          "output_type": "display_data",
          "data": {
            "text/plain": "<Figure size 640x480 with 1 Axes>",
            "image/png": "[encoded data removed]"
          },
          "metadata": {}
        }
      ],
      "execution_count": 7
    },
    {
      "cell_type": "markdown",
      "source": "# Execute it as a markdown cell\n# H1: This is a level 1 Heading\n## H2: This is a level 2 Heading\n### H3: This is a level 3 Heading\n#### H4: This is a level 4 Heading\n##### H5: This is a level 5 Heading\n###### H6: This is a level 6 Heading",
      "metadata": {}
    },
    {
      "cell_type": "markdown",
      "source": "# Execute it as a markdown cell\n# H1: This is a level 1 Heading\n## H2: This is a level 2 Heading\n### H3: This is a level 3 Heading\n#### H4: This is a level 4 Heading\n##### H5: This is a level 5 Heading\n###### H6: This is a level 6 Heading",
      "metadata": {}
    },
    {
      "cell_type": "markdown",
      "source": "# Execute it as a markdown cell\n**Bold Text using asterisks.**  \n__Bold Text using underscores.__\n2 asterisks or underscores",
      "metadata": {}
    },
    {
      "cell_type": "markdown",
      "source": "# Execute it as a markdown cell\n**Bold Text using asterisks.**  \n__Bold Text using underscores.__",
      "metadata": {}
    },
    {
      "cell_type": "markdown",
      "source": "# Execute it as a markdown cell\n***Bold and Italic text using asterisks.***  \n___Bold and Italic text using underscores.___\n3 asterisks or underscores",
      "metadata": {}
    },
    {
      "cell_type": "markdown",
      "source": "# Execute it as a markdown cell\n***Bold and Italic text using asterisks.***  \n___Bold and Italic text using underscores.___",
      "metadata": {}
    },
    {
      "cell_type": "markdown",
      "source": "# Execute it as a markdown cell - create a HYPERLINK\n[Skills Network](https://skills.network/) ",
      "metadata": {}
    },
    {
      "cell_type": "markdown",
      "source": "# Execute it as a markdown cell\n[Skills Network](https://skills.network/) ",
      "metadata": {}
    },
    {
      "cell_type": "markdown",
      "source": "# Execute it as a markdown cell - render an IMAGE\nLOGO: ![This is the skills network logo](https://cf-courses-data.s3.us.cloud-object-storage.appdomain.cloud/assets/logos/SN_web_lightmode.png)",
      "metadata": {}
    },
    {
      "cell_type": "markdown",
      "source": "# Execute it as a markdown cell\nLOGO: ![This is the skills network logo](https://cf-courses-data.s3.us.cloud-object-storage.appdomain.cloud/assets/logos/SN_web_lightmode.png)",
      "metadata": {}
    },
    {
      "cell_type": "markdown",
      "source": "## Execute as a markdown cell - create a TABLE\n\n| Country Name | Capital |\n| -------------| ------ |\n| United States | Washington DC |\n| Australia | Canberra |\n| India | New Delhi |",
      "metadata": {}
    },
    {
      "cell_type": "markdown",
      "source": "## Execute as a markdown cell\n\n| Country Name | Capital |\n| -------------| ------ |\n| United States | Washington DC |\n| Australia | Canberra |\n| India | New Delhi |",
      "metadata": {}
    },
    {
      "cell_type": "markdown",
      "source": "# Execute as a markdown cell - create ordered and unordered LISTS\n- First item using dashes\n- Second item using dashes\n- Third item using dashes\n- Fourth item using dashes\n\n* First item using asterisks\n* Second item using asterisks\n* Third item using asterisks\n* Fourth item using asterisks\n\n+ First item using plus\n+ Second item using plus\n+ Third item using plus\n+ Fourth item using plus",
      "metadata": {}
    },
    {
      "cell_type": "markdown",
      "source": "# Execute as a markdown cell\n- First item using dashes\n- Second item using dashes\n- Third item using dashes\n- Fourth item using dashes\n\n* First item using asterisks\n* Second item using asterisks\n* Third item using asterisks\n* Fourth item using asterisks\n\n+ First item using plus\n+ Second item using plus\n+ Third item using plus\n+ Fourth item using plus",
      "metadata": {}
    },
    {
      "cell_type": "markdown",
      "source": "# Execute as a markdown cell - ORDERED LIST\n1. First item\n2. Second item\n3. Third item\n4. Fourth item",
      "metadata": {}
    },
    {
      "cell_type": "markdown",
      "source": "# Execute as a markdown cell\n1. First item\n2. Second item\n3. Third item\n4. Fourth item",
      "metadata": {}
    },
    {
      "cell_type": "markdown",
      "source": "## Welcome to Python programming\nLauncher:![This is SN labs New Launcher](https://cf-courses-data.s3.us.cloud-object-storage.appdomain.cloud/IBMDeveloperSkillsNetwork-DS0105EN-SkillsNetwork/labs/Labs_V4/images/Launcher.png)",
      "metadata": {}
    },
    {
      "cell_type": "markdown",
      "source": "[Tools For Data Science](https://www.coursera.org/learn/open-source-tools-for-data-science/home)",
      "metadata": {}
    },
    {
      "cell_type": "markdown",
      "source": "<a href =\"https://www.coursera.org/learn/open-source-tools-for-data-science/home/\">Tools For Data Science</a> ",
      "metadata": {}
    },
    {
      "cell_type": "markdown",
      "source": "|fruits | quantity(kg) | price(in  rupee)|\n|-------|--------------|------ |\n|apple | 2 | 500|\n|orange | 1 | 200|\n|mango | 3 | 1000|\n|grapes | 2 | 400 |",
      "metadata": {}
    },
    {
      "cell_type": "markdown",
      "source": "1. python\n2. java\n3. C++\n4. C",
      "metadata": {}
    },
    {
      "cell_type": "code",
      "source": "x = min(5, 10, 25)\ny = max(5, 10, 25)\nprint(x)\nprint(y)",
      "metadata": {
        "trusted": true
      },
      "outputs": [
        {
          "name": "stdout",
          "text": "5\n25\n",
          "output_type": "stream"
        }
      ],
      "execution_count": 18
    },
    {
      "cell_type": "code",
      "source": "x = pow(4, 3)\nprint(x)",
      "metadata": {
        "trusted": true
      },
      "outputs": [
        {
          "name": "stdout",
          "text": "64\n",
          "output_type": "stream"
        }
      ],
      "execution_count": 19
    },
    {
      "cell_type": "code",
      "source": "",
      "metadata": {
        "trusted": true
      },
      "outputs": [],
      "execution_count": null
    },
    {
      "cell_type": "code",
      "source": "",
      "metadata": {
        "trusted": true
      },
      "outputs": [],
      "execution_count": null
    },
    {
      "cell_type": "code",
      "source": "",
      "metadata": {
        "trusted": true
      },
      "outputs": [],
      "execution_count": null
    },
    {
      "cell_type": "code",
      "source": "",
      "metadata": {
        "trusted": true
      },
      "outputs": [],
      "execution_count": null
    },
    {
      "cell_type": "code",
      "source": "",
      "metadata": {
        "trusted": true
      },
      "outputs": [],
      "execution_count": null
    },
    {
      "cell_type": "code",
      "source": "",
      "metadata": {
        "trusted": true
      },
      "outputs": [],
      "execution_count": null
    },
    {
      "cell_type": "code",
      "source": "",
      "metadata": {
        "trusted": true
      },
      "outputs": [],
      "execution_count": null
    }
  ]
}